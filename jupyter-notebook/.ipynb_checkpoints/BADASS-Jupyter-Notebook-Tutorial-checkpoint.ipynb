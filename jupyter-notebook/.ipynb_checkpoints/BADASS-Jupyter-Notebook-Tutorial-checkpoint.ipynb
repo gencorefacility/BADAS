{
 "cells": [
  {
   "cell_type": "markdown",
   "metadata": {},
   "source": [
    "# Jupyter Notebook Tutorial\n",
    "\n",
    "This notebook will serve as the framework to understaning how to utilize and create your own Jupyter Notebook. The utility of this is to provide the means to have a clear and interactive coding environment that is easy to share with colleagues, as well as your materials and methods section."
   ]
  },
  {
   "cell_type": "markdown",
   "metadata": {},
   "source": [
    "## Getting Familiar with the Interface\n",
    "\n",
    "A Jupyter notebook is composed of a menu (at the top) and cells. Cells contain text and/or code that are organized in a serial fashion, meaning that they are executed one-by-one until the end of your notebook. \n",
    "\n",
    "Cells that are marked as markdown cells (see dropdown menu) are able to render markdown. For those who are unfamiliar with markdown you can find a good cheat sheet [here](https://github.com/adam-p/markdown-here/wiki/Markdown-Cheatsheet#code).\n",
    "\n",
    "Code cells contain code, obvs. Jupyter is able to recognize many different languages by installing [kernels](https://github.com/jupyter/jupyter/wiki/Jupyter-kernels). The code is executed and output is retained in the I/O cell directly below the code block.\n",
    "\n",
    "TO NOTE:\n",
    "- Unfortunately there is not any support for executing multiple different languages within one codeblock. \n",
    "- However, you can execute bash commands and there are some magic words, which we will get into later."
   ]
  },
  {
   "cell_type": "markdown",
   "metadata": {},
   "source": []
  },
  {
   "cell_type": "code",
   "execution_count": null,
   "metadata": {
    "collapsed": true
   },
   "outputs": [],
   "source": []
  },
  {
   "cell_type": "markdown",
   "metadata": {},
   "source": [
    "### Hotkeys\n",
    "\n",
    "There are quite a few differeny hotkeys available, and can be found [here](http://maxmelnick.com/2016/04/19/python-beginner-tips-and-tricks.html). A few that we use are as follows:\n",
    "\n",
    "### Command Mode\n",
    "This mode does not allow you to enter text into a cell but instead allows you to edit the cells/notebook. To enter/ensure you are in this mode you can press `esc` and the colored bar to the left of the cell will turn blue.\n",
    "* `b` enters a cell below the current cell.\n",
    "* `m` changes the current cell to markdown.\n",
    "* `y` changes the current cell to code.\n",
    "* `shift` + `enter` runs the current cell.\n",
    "* `h` will display all hotkeys avaialble in your current notebook.\n",
    "\n",
    "### Edit Mode\n",
    "This mode allows you to enter text into the cell. To enter edit mode, simply double click or press `enter` on any given cell. The colored bar to the left of the current cell with turn green.\n",
    "* `cmd` + `/` enters comments in code blocks.\n",
    "\n",
    "### Command Pallette\n",
    "This is one of the more useful hotkeys: it brings up a search bar that you can use to search for all of the commands that are available in your notebook. Use `cmd` + `shift` + `p` to access."
   ]
  },
  {
   "cell_type": "markdown",
   "metadata": {},
   "source": [
    "## Terminal Interface\n",
    "\n",
    "Jupyter also has a nice feature that allows you to have a terminal on the machine which is currently hosting the notebook."
   ]
  },
  {
   "cell_type": "markdown",
   "metadata": {},
   "source": [
    "# Magic Keywords\n",
    "\n",
    "Magic keywords are commands that are recognized by the kernel to perform certain actions. Many of them invoke unix commands in order to time you code, change directory, etc. There are many preexisting commands but we will go through a few of the ones we think are most useful.\n",
    "\n",
    "A comprehensive (but not complete!) list of them can be found [here](https://ipython.readthedocs.io/en/stable/interactive/magics.html)"
   ]
  },
  {
   "cell_type": "markdown",
   "metadata": {},
   "source": [
    "## Time\n",
    "The time command is used commonly to benchmark how long a command or a block of code takes to run. An example can be seen below."
   ]
  },
  {
   "cell_type": "code",
   "execution_count": 2,
   "metadata": {},
   "outputs": [
    {
     "name": "stdout",
     "output_type": "stream",
     "text": [
      "CPU times: user 15.6 ms, sys: 2.93 ms, total: 18.5 ms\n",
      "Wall time: 18.9 ms\n",
      "CPU times: user 2.02 ms, sys: 330 µs, total: 2.35 ms\n",
      "Wall time: 3.15 ms\n",
      "100 loops, best of 3: 13 ms per loop\n",
      "1000 loops, best of 3: 1.31 ms per loop\n",
      "CPU times: user 4 µs, sys: 3 µs, total: 7 µs\n",
      "Wall time: 8.11 µs\n"
     ]
    }
   ],
   "source": [
    "import numpy as np\n",
    "from numpy.random import randint\n",
    "\n",
    "# A function to simulate one million dice throws.\n",
    "def one_million_dice():\n",
    "    return randint(low=1, high=7, size=1000000)\n",
    "\n",
    "# Let's try %time first\n",
    "%time throws = one_million_dice()\n",
    "%time mean = np.mean(throws)\n",
    "\n",
    "# Outputs:\n",
    "# Wall time: 20.6 ms\n",
    "# Wall time: 3.01 ms\n",
    "\n",
    "# Let's do the same with %timeit\n",
    "%timeit throws = one_million_dice()\n",
    "%timeit mean = np.mean(throws)\n",
    "\n",
    "# Outputs:\n",
    "# 10 loops, best of 3: 22.2 ms per loop\n",
    "# 100 loops, best of 3: 2.86 ms per loop\n",
    "\n",
    "# And finally %time\n",
    "%time\n",
    "throws = one_million_dice()\n",
    "mean = np.mean(throws)\n",
    "\n",
    "# Outputs:\n",
    "# Wall time: 36.6 ms"
   ]
  },
  {
   "cell_type": "markdown",
   "metadata": {},
   "source": [
    "## Matplotlib\n",
    "Normally when plotting, programs will open up a new window/device to display the graphics. Here, `%matplotlib inline` can render the graphics within the notebook itself. This is very useful for sharing your results!"
   ]
  },
  {
   "cell_type": "code",
   "execution_count": 4,
   "metadata": {},
   "outputs": [
    {
     "data": {
      "image/png": "[encoded data removed]",
      "text/plain": [
       "<matplotlib.figure.Figure at 0x105fbb6d0>"
      ]
     },
     "metadata": {},
     "output_type": "display_data"
    },
    {
     "data": {
      "image/png": "[encoded data removed]",
      "text/plain": [
       "<matplotlib.figure.Figure at 0x1088a1f90>"
      ]
     },
     "metadata": {},
     "output_type": "display_data"
    }
   ],
   "source": [
    "from numpy.random import randint\n",
    "import matplotlib.pyplot as plt\n",
    "\n",
    "# Sample 1000 random values to create a scatterplot\n",
    "x = randint(low=1, high=1000, size=100)\n",
    "y = randint(low=1, high=1000, size=100)\n",
    "\n",
    "# This will show nothing in a Jupyter Notebook\n",
    "plt.scatter(x, y)\n",
    "plt.show()\n",
    "\n",
    "# Let the magic happen!\n",
    "%matplotlib inline\n",
    "plt.scatter(x, y)\n",
    "plt.show()"
   ]
  },
  {
   "cell_type": "markdown",
   "metadata": {
    "collapsed": true
   },
   "source": [
    "## System\n",
    "In the likely event that you want to run a system command (a native unix command), this is what you're looking for!"
   ]
  },
  {
   "cell_type": "code",
   "execution_count": 5,
   "metadata": {},
   "outputs": [
    {
     "data": {
      "text/plain": [
       "['Tue Oct  2 11:15:37 EDT 2018']"
      ]
     },
     "execution_count": 5,
     "metadata": {},
     "output_type": "execute_result"
    }
   ],
   "source": [
    "# Easy to read version\n",
    "%system date\n",
    "\n",
    "# Shorthand with \"!!\" instead of \"%system\" works equally well\n",
    "!!date"
   ]
  },
  {
   "cell_type": "code",
   "execution_count": null,
   "metadata": {
    "collapsed": true
   },
   "outputs": [],
   "source": []
  }
 ],
 "metadata": {
  "kernelspec": {
   "display_name": "Python 2",
   "language": "python",
   "name": "python2"
  },
  "language_info": {
   "codemirror_mode": {
    "name": "ipython",
    "version": 2
   },
   "file_extension": ".py",
   "mimetype": "text/x-python",
   "name": "python",
   "nbconvert_exporter": "python",
   "pygments_lexer": "ipython2",
   "version": "2.7.13"
  },
  "latex_envs": {
   "bibliofile": "biblio.bib",
   "cite_by": "apalike",
   "current_citInitial": 1,
   "eqLabelWithNumbers": true,
   "eqNumInitial": 0
  },
  "toc": {
   "toc_cell": false,
   "toc_number_sections": true,
   "toc_threshold": 6,
   "toc_window_display": false
  }
 },
 "nbformat": 4,
 "nbformat_minor": 2
}
