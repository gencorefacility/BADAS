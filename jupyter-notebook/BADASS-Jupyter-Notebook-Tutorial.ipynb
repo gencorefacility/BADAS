{
 "cells": [
  {
   "cell_type": "markdown",
   "metadata": {},
   "source": [
    "# Jupyter Notebook Tutorial\n",
    "\n",
    "This notebook will serve as the framework to understaning how to utilize and create your own Jupyter Notebook. The utility of this is to provide the means to have a clear and interactive coding environment that is easy to share with colleagues, as well as your materials and methods section."
   ]
  },
  {
   "cell_type": "markdown",
   "metadata": {},
   "source": [
    "## Getting Familiar with the Interface\n",
    "\n",
    "A Jupyter notebook is composed of a menu (at the top) and cells. Cells contain text and/or code that are organized in a serial fashion, meaning that they are executed one-by-one until the end of your notebook. \n",
    "\n",
    "Cells that are marked as markdown cells (see dropdown menu) are able to render markdown. For those who are unfamiliar with markdown you can find a good cheat sheet [here](https://github.com/adam-p/markdown-here/wiki/Markdown-Cheatsheet#code).\n",
    "\n",
    "Code cells contain code, obvs. Jupyter is able to recognize many different languages by installing [kernels](https://github.com/jupyter/jupyter/wiki/Jupyter-kernels). The code is executed and output is retained in the I/O cell directly below the code block.\n",
    "\n",
    "TO NOTE:\n",
    "- Unfortunately there is not any support for executing multiple different languages within one codeblock. \n",
    "- However, you can execute bash commands and there are some magic words, which we will get into later."
   ]
  },
  {
   "cell_type": "markdown",
   "metadata": {},
   "source": []
  },
  {
   "cell_type": "code",
   "execution_count": null,
   "metadata": {
    "collapsed": true
   },
   "outputs": [],
   "source": []
  },
  {
   "cell_type": "markdown",
   "metadata": {},
   "source": [
    "## Terminal Interface\n",
    "\n",
    "Jupyter also has a nice feature that allows you to have a terminal on the machine which is currently hosting the notebook."
   ]
  }
 ],
 "metadata": {
  "kernelspec": {
   "display_name": "Python 2",
   "language": "python",
   "name": "python2"
  },
  "language_info": {
   "codemirror_mode": {
    "name": "ipython",
    "version": 2
   },
   "file_extension": ".py",
   "mimetype": "text/x-python",
   "name": "python",
   "nbconvert_exporter": "python",
   "pygments_lexer": "ipython2",
   "version": "2.7.13"
  },
  "latex_envs": {
   "bibliofile": "biblio.bib",
   "cite_by": "apalike",
   "current_citInitial": 1,
   "eqLabelWithNumbers": true,
   "eqNumInitial": 0
  },
  "toc": {
   "toc_cell": false,
   "toc_number_sections": true,
   "toc_threshold": 6,
   "toc_window_display": false
  }
 },
 "nbformat": 4,
 "nbformat_minor": 2
}
